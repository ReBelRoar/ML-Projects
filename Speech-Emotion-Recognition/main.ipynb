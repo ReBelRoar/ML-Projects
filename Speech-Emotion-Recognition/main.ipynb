{
 "cells": [
  {
   "cell_type": "code",
   "execution_count": 1,
   "metadata": {},
   "outputs": [],
   "source": [
    "import librosa\n",
    "import soundfile,time\n",
    "import os,glob,pickle\n",
    "import numpy as np\n",
    "from sklearn.model_selection import train_test_split\n",
    "from sklearn.neural_network import MLPClassifier\n",
    "from sklearn.metrics import accuracy_score"
   ]
  },
  {
   "cell_type": "code",
   "execution_count": 2,
   "metadata": {},
   "outputs": [],
   "source": [
    "## Open the sound file with soundfile.SoundFile using with-as so it’s automatically closed once we’re done.\n",
    "## Read from it and call it X. Also, get the sample rate. If chroma is True, get the Short-Time Fourier Transform of X.\n",
    "\n",
    "def extract_feature(file_name, mfcc, chroma, mel):\n",
    "    with soundfile.SoundFile(file_name) as sound_file:\n",
    "        X = sound_file.read(dtype=\"float32\")\n",
    "        sample_rate=sound_file.samplerate\n",
    "        if chroma:\n",
    "            stft=np.abs(librosa.stft(X))\n",
    "        result=np.array([])\n",
    "        if mfcc:\n",
    "            mfccs=np.mean(librosa.feature.mfcc(y=X, sr=sample_rate, n_mfcc=40).T, axis=0)\n",
    "            result=np.hstack((result, mfccs))\n",
    "        if chroma:\n",
    "            chroma=np.mean(librosa.feature.chroma_stft(S=stft, sr=sample_rate).T,axis=0)\n",
    "            result=np.hstack((result, chroma))\n",
    "        if mel:\n",
    "            mel=np.mean(librosa.feature.melspectrogram(X, sr=sample_rate).T,axis=0)\n",
    "            result=np.hstack((result, mel))\n",
    "    return result"
   ]
  },
  {
   "cell_type": "code",
   "execution_count": 3,
   "metadata": {},
   "outputs": [],
   "source": [
    "# Here we define a dictionary to hold numbers and the emotions available in the RAVDESS dataset,\n",
    "# and a list to hold those we want- calm, happy, fearful, disgust.\n",
    "\n",
    "emotions={\n",
    "  '01':'neutral',\n",
    "  '02':'calm',\n",
    "  '03':'happy',\n",
    "  '04':'sad',\n",
    "  '05':'angry',\n",
    "  '06':'fearful',\n",
    "  '07':'disgust',\n",
    "  '08':'surprised'\n",
    "}\n",
    "\n",
    "# Emotions to observe\n",
    "observed_emotions=['calm','happy','fearful','disgust']"
   ]
  },
  {
   "cell_type": "code",
   "execution_count": 4,
   "metadata": {},
   "outputs": [],
   "source": [
    "#let’s load the data with a function load_data. x and y are empty lists; \n",
    "# we’ll use the glob() function from the glob module to get all the pathnames for the sound files in our dataset.\n",
    "\n",
    "# Using our emotions dictionary, this number is turned into an emotion, and our function checks whether this\n",
    "# emotion is in our list of observed_emotions; if not, it continues to the next file.\n",
    "# It makes a call to extract_feature and stores what is returned in ‘feature’.\n",
    "# Then, it appends the feature to x and the emotion to y. So, the list x holds the features and y holds the emotions.\n",
    "# We call the function train_test_split with these, the test size, and a random state value, and return that.\n",
    "\n",
    "def load_data(test_size=0.2):\n",
    "    x,y=[],[]\n",
    "    for file in glob.glob(\"/home/rebelroar/JupyterCode/Speech-Emotion-Recognition/ravdess data/Actor_*//*.wav\"):\n",
    "        file_name=os.path.basename(file)\n",
    "        emotion=emotions[file_name.split(\"-\")[2]]\n",
    "        if emotion not in observed_emotions:\n",
    "            continue\n",
    "        feature=extract_feature(file, mfcc=True, chroma=True, mel=True)\n",
    "        x.append(feature)\n",
    "        y.append(emotion)\n",
    "    return train_test_split(np.array(x), y, test_size=test_size, random_state=9)\n"
   ]
  },
  {
   "cell_type": "code",
   "execution_count": 5,
   "metadata": {
    "scrolled": true
   },
   "outputs": [],
   "source": [
    "file = \"/home/rebelroar/JupyterCode/Speech-Emotion-Recognition/ravdess data/Actor_19/03-01-05-02-02-02-19.wav\"\n",
    "feature = extract_feature(file, mfcc=True, chroma=True,mel=True)"
   ]
  },
  {
   "cell_type": "code",
   "execution_count": 6,
   "metadata": {
    "scrolled": true
   },
   "outputs": [
    {
     "name": "stdout",
     "output_type": "stream",
     "text": [
      "[[-6.41742493e+02  3.81749878e+01 -8.41347885e+00 ...  3.26658337e-05\n",
      "   2.97957540e-05  2.17277611e-05]\n",
      " [-4.75023102e+02  5.54611511e+01 -2.26248856e+01 ...  9.70487075e-04\n",
      "   7.80348724e-04  3.80643847e-04]\n",
      " [-5.62096863e+02  5.64227562e+01 -5.83460474e+00 ...  9.64779974e-05\n",
      "   5.62684618e-05  3.77878459e-05]\n",
      " ...\n",
      " [-6.40954346e+02  5.70275040e+01 -3.73365498e+00 ...  4.05219835e-05\n",
      "   2.88846350e-05  1.43326179e-05]\n",
      " [-5.92325684e+02  3.48012199e+01 -1.67392044e+01 ...  5.40780129e-05\n",
      "   3.11042058e-05  2.10854214e-05]\n",
      " [-5.63921814e+02  5.21708450e+01  1.30012579e+01 ...  1.91435160e-04\n",
      "   1.94719309e-04  7.13025729e-05]]\n",
      "[[-5.56770630e+02  3.49958649e+01 -1.21606884e+01 ...  1.56850656e-04\n",
      "   9.86818704e-05  6.10335883e-05]\n",
      " [-6.01231934e+02  4.61873779e+01 -1.52429905e+01 ...  1.04361658e-04\n",
      "   6.08918417e-05  8.39796194e-05]\n",
      " [-5.18958252e+02  4.76211243e+01 -6.14259052e+00 ...  6.27887639e-05\n",
      "   3.10710166e-05  2.06187524e-05]\n",
      " ...\n",
      " [-6.27685303e+02  6.59878387e+01  9.15102768e+00 ...  8.55467533e-06\n",
      "   9.50508820e-06  3.72762543e-06]\n",
      " [-5.56760254e+02  2.29687672e+01 -2.46628590e+01 ...  1.59072049e-04\n",
      "   1.32085057e-04  1.21526391e-04]\n",
      " [-4.85094818e+02  3.79109879e+01 -3.83234787e+00 ...  8.97413294e-04\n",
      "   5.17998298e-04  2.82718771e-04]]\n",
      "['calm', 'happy', 'happy', 'disgust', 'fearful', 'calm', 'calm', 'happy', 'fearful', 'disgust', 'disgust', 'happy', 'calm', 'calm', 'fearful', 'disgust', 'fearful', 'disgust', 'calm', 'fearful', 'calm', 'happy', 'disgust', 'fearful', 'disgust', 'calm', 'calm', 'fearful', 'fearful', 'disgust', 'disgust', 'fearful', 'disgust', 'happy', 'disgust', 'happy', 'happy', 'disgust', 'happy', 'calm', 'calm', 'fearful', 'fearful', 'happy', 'fearful', 'disgust', 'happy', 'disgust', 'happy', 'disgust', 'fearful', 'happy', 'disgust', 'calm', 'calm', 'fearful', 'fearful', 'happy', 'happy', 'happy', 'disgust', 'disgust', 'disgust', 'disgust', 'fearful', 'disgust', 'fearful', 'disgust', 'calm', 'fearful', 'disgust', 'happy', 'fearful', 'calm', 'calm', 'disgust', 'fearful', 'happy', 'fearful', 'happy', 'happy', 'disgust', 'calm', 'happy', 'calm', 'happy', 'happy', 'calm', 'calm', 'disgust', 'happy', 'happy', 'happy', 'calm', 'happy', 'disgust', 'fearful', 'disgust', 'calm', 'happy', 'disgust', 'happy', 'fearful', 'disgust', 'calm', 'happy', 'happy', 'happy', 'disgust', 'calm', 'happy', 'calm', 'fearful', 'calm', 'disgust', 'calm', 'happy', 'calm', 'fearful', 'happy', 'happy', 'calm', 'happy', 'happy', 'calm', 'calm', 'happy', 'happy', 'calm', 'happy', 'disgust', 'calm', 'disgust', 'happy', 'fearful', 'fearful', 'disgust', 'happy', 'calm', 'happy', 'happy', 'fearful', 'happy', 'calm', 'disgust', 'calm', 'disgust', 'calm', 'calm', 'fearful', 'fearful', 'disgust', 'fearful', 'fearful', 'disgust', 'fearful', 'disgust', 'disgust', 'calm', 'fearful', 'fearful', 'fearful', 'calm', 'calm', 'fearful', 'happy', 'happy', 'disgust', 'fearful', 'calm', 'happy', 'disgust', 'disgust', 'fearful', 'disgust', 'calm', 'fearful', 'happy', 'fearful', 'disgust', 'calm', 'happy', 'fearful', 'happy', 'disgust', 'calm', 'fearful', 'fearful', 'fearful', 'fearful', 'calm', 'disgust', 'calm', 'disgust', 'fearful', 'fearful', 'disgust', 'disgust', 'calm', 'happy', 'happy', 'fearful', 'calm', 'happy', 'happy', 'disgust', 'fearful', 'calm', 'fearful', 'calm', 'happy', 'fearful', 'happy', 'disgust', 'fearful', 'fearful', 'disgust', 'happy', 'fearful', 'calm', 'fearful', 'happy', 'fearful', 'disgust', 'disgust', 'disgust', 'happy', 'happy', 'calm', 'calm', 'disgust', 'fearful', 'calm', 'fearful', 'happy', 'disgust', 'fearful', 'fearful', 'fearful', 'calm', 'disgust', 'fearful', 'calm', 'disgust', 'fearful', 'happy', 'fearful', 'calm', 'fearful', 'calm', 'disgust', 'happy', 'disgust', 'calm', 'fearful', 'fearful', 'fearful', 'calm', 'disgust', 'fearful', 'fearful', 'fearful', 'fearful', 'disgust', 'calm', 'calm', 'fearful', 'happy', 'fearful', 'calm', 'happy', 'calm', 'fearful', 'fearful', 'happy', 'happy', 'fearful', 'fearful', 'disgust', 'calm', 'happy', 'disgust', 'calm', 'calm', 'fearful', 'disgust', 'disgust', 'happy', 'fearful', 'calm', 'happy', 'disgust', 'happy', 'calm', 'calm', 'disgust', 'happy', 'calm', 'calm', 'disgust', 'happy', 'disgust', 'calm', 'calm', 'calm', 'fearful', 'fearful', 'disgust', 'calm', 'happy', 'calm', 'disgust', 'happy', 'happy', 'happy', 'happy', 'fearful', 'happy', 'fearful', 'fearful', 'fearful', 'happy', 'calm', 'calm', 'disgust', 'happy', 'fearful', 'calm', 'disgust', 'fearful', 'disgust', 'fearful', 'calm', 'happy', 'happy', 'calm', 'disgust', 'calm', 'calm', 'disgust', 'calm', 'fearful', 'disgust', 'calm', 'disgust', 'calm', 'happy', 'happy', 'calm', 'calm', 'calm', 'happy', 'happy', 'calm', 'disgust', 'calm', 'happy', 'calm', 'disgust', 'fearful', 'calm', 'disgust', 'happy', 'calm', 'happy', 'happy', 'disgust', 'fearful', 'happy', 'happy', 'happy', 'happy', 'calm', 'fearful', 'disgust', 'happy', 'fearful', 'happy', 'calm', 'happy', 'happy', 'fearful', 'calm', 'disgust', 'calm', 'calm', 'fearful', 'fearful', 'disgust', 'happy', 'calm', 'fearful', 'disgust', 'calm', 'calm', 'happy', 'happy', 'disgust', 'disgust', 'happy', 'fearful', 'disgust', 'calm', 'disgust', 'fearful', 'fearful', 'disgust', 'disgust', 'disgust', 'fearful', 'fearful', 'disgust', 'disgust', 'happy', 'disgust', 'disgust', 'calm', 'calm', 'fearful', 'disgust', 'fearful', 'happy', 'calm', 'calm', 'calm', 'happy', 'happy', 'calm', 'fearful', 'disgust', 'happy', 'disgust', 'happy', 'disgust', 'disgust', 'fearful', 'fearful', 'happy', 'happy', 'calm', 'calm', 'calm', 'fearful', 'fearful', 'disgust', 'calm', 'fearful', 'happy', 'disgust', 'fearful', 'calm', 'calm', 'disgust', 'disgust', 'fearful', 'fearful', 'fearful', 'disgust', 'disgust', 'calm', 'calm', 'calm', 'disgust', 'fearful', 'calm', 'happy', 'happy', 'fearful', 'happy', 'happy', 'happy', 'disgust', 'fearful', 'happy', 'happy', 'calm', 'happy', 'happy', 'fearful', 'disgust', 'disgust', 'fearful', 'happy', 'disgust', 'fearful', 'disgust', 'happy', 'fearful', 'disgust', 'disgust', 'happy', 'disgust', 'fearful', 'fearful', 'happy', 'happy', 'calm', 'disgust', 'happy', 'calm', 'happy', 'calm', 'calm', 'fearful', 'happy', 'happy', 'disgust', 'fearful', 'fearful', 'happy', 'disgust', 'calm', 'happy', 'fearful', 'happy', 'disgust', 'disgust', 'disgust', 'disgust', 'happy', 'happy', 'happy', 'happy', 'calm', 'fearful', 'calm', 'fearful', 'disgust', 'calm', 'disgust', 'happy', 'happy', 'happy', 'disgust', 'calm', 'happy', 'disgust', 'disgust', 'fearful', 'fearful', 'calm', 'disgust', 'fearful', 'disgust', 'happy', 'happy', 'fearful', 'calm', 'fearful', 'disgust', 'fearful', 'disgust', 'calm', 'calm', 'disgust', 'disgust', 'calm', 'disgust', 'happy', 'disgust', 'fearful', 'fearful', 'disgust', 'disgust', 'fearful', 'calm', 'calm', 'happy', 'calm', 'calm', 'happy', 'happy', 'disgust', 'calm', 'fearful', 'disgust']\n",
      "['fearful', 'calm', 'happy', 'fearful', 'disgust', 'happy', 'disgust', 'fearful', 'happy', 'disgust', 'calm', 'happy', 'happy', 'happy', 'happy', 'happy', 'disgust', 'disgust', 'calm', 'calm', 'fearful', 'happy', 'happy', 'calm', 'calm', 'calm', 'calm', 'fearful', 'fearful', 'fearful', 'fearful', 'happy', 'fearful', 'disgust', 'fearful', 'disgust', 'fearful', 'happy', 'fearful', 'happy', 'fearful', 'calm', 'happy', 'fearful', 'happy', 'calm', 'disgust', 'happy', 'fearful', 'fearful', 'calm', 'disgust', 'disgust', 'calm', 'fearful', 'disgust', 'calm', 'disgust', 'calm', 'fearful', 'happy', 'disgust', 'calm', 'calm', 'happy', 'calm', 'fearful', 'fearful', 'fearful', 'happy', 'fearful', 'calm', 'fearful', 'disgust', 'happy', 'disgust', 'fearful', 'calm', 'fearful', 'disgust', 'disgust', 'disgust', 'calm', 'disgust', 'happy', 'disgust', 'disgust', 'calm', 'happy', 'fearful', 'disgust', 'fearful', 'calm', 'happy', 'fearful', 'disgust', 'calm', 'calm', 'calm', 'disgust', 'fearful', 'happy', 'calm', 'happy', 'disgust', 'calm', 'fearful', 'fearful', 'disgust', 'fearful', 'fearful', 'calm', 'fearful', 'fearful', 'calm', 'happy', 'happy', 'fearful', 'disgust', 'disgust', 'happy', 'disgust', 'fearful', 'fearful', 'calm', 'calm', 'calm', 'happy', 'fearful', 'happy', 'calm', 'happy', 'happy', 'calm', 'happy', 'calm', 'disgust', 'fearful', 'calm', 'happy', 'fearful', 'disgust', 'fearful', 'disgust', 'calm', 'calm', 'disgust', 'disgust', 'disgust', 'disgust', 'calm', 'disgust', 'calm', 'happy', 'disgust', 'happy', 'disgust', 'disgust', 'fearful', 'fearful', 'calm', 'disgust', 'fearful', 'disgust', 'fearful', 'happy', 'calm', 'happy', 'disgust', 'disgust', 'disgust', 'fearful', 'disgust', 'calm', 'happy', 'calm', 'disgust', 'calm', 'calm', 'fearful', 'happy', 'happy', 'fearful', 'calm', 'calm', 'happy', 'calm', 'calm', 'fearful', 'calm', 'fearful', 'happy']\n"
     ]
    }
   ],
   "source": [
    "# Time to split the dataset into training and testing sets! \n",
    "# Let’s keep 25% data of everything and use the load_data function for this.\n",
    "# Here we also print the dataset\n",
    "\n",
    "x_train, x_test, y_train, y_test = load_data(test_size=0.25)\n",
    "print(x_train)\n",
    "print(x_test)\n",
    "print(y_train)\n",
    "print(y_test)"
   ]
  },
  {
   "cell_type": "code",
   "execution_count": 7,
   "metadata": {},
   "outputs": [],
   "source": [
    "# let’s initialize an MLPClassifier. This is a Multi-layer Perceptron Classifier;\n",
    "# it optimizes the log-loss function using LBFGS or stochastic gradient descent.\n",
    "# Unlike SVM or Naive Bayes, the MLPClassifier has an internal neural network for the purpose of classification.\n",
    "\n",
    "model = MLPClassifier(alpha=0.01, batch_size=256, epsilon=1e-08, hidden_layer_sizes=(300,),learning_rate='adaptive',max_iter=500)"
   ]
  },
  {
   "cell_type": "code",
   "execution_count": 8,
   "metadata": {},
   "outputs": [
    {
     "data": {
      "text/plain": [
       "MLPClassifier(alpha=0.01, batch_size=256, hidden_layer_sizes=(300,),\n",
       "              learning_rate='adaptive', max_iter=500)"
      ]
     },
     "execution_count": 8,
     "metadata": {},
     "output_type": "execute_result"
    }
   ],
   "source": [
    "# Train the model\n",
    "\n",
    "model.fit(x_train, y_train)"
   ]
  },
  {
   "cell_type": "code",
   "execution_count": 9,
   "metadata": {},
   "outputs": [],
   "source": [
    "# Here we predict the values of test set.This gives us y_pred\n",
    "\n",
    "y_pred = model.predict(x_test)\n",
    "y_pre = model.predict([feature])"
   ]
  },
  {
   "cell_type": "code",
   "execution_count": 10,
   "metadata": {},
   "outputs": [
    {
     "name": "stdout",
     "output_type": "stream",
     "text": [
      "['fearful']\n"
     ]
    }
   ],
   "source": [
    "# Printing the the calculated value\n",
    "\n",
    "print(y_pre)"
   ]
  },
  {
   "cell_type": "code",
   "execution_count": 14,
   "metadata": {},
   "outputs": [
    {
     "name": "stdout",
     "output_type": "stream",
     "text": [
      "Accuracy: 71.88%\n"
     ]
    }
   ],
   "source": [
    "# Here we are calculating the accuracy of our predicted values and printing the accuracy of our system\n",
    "\n",
    "accuracy = accuracy_score(y_true=y_test, y_pred=y_pred)\n",
    "\n",
    "print(\"Accuracy: {:.2f}%\".format(accuracy*100))"
   ]
  },
  {
   "cell_type": "code",
   "execution_count": 11,
   "metadata": {},
   "outputs": [],
   "source": [
    "time.sleep(2)"
   ]
  },
  {
   "cell_type": "code",
   "execution_count": 12,
   "metadata": {},
   "outputs": [],
   "source": [
    "# here after getting the predicted value we open the music video in YouTube, Here we add all different emotion \n",
    "# type video link of YouTube and wichever type of emotion we get it automatically plays it\n",
    "\n",
    "import webbrowser\n",
    "\n",
    "if y_pre[0]=='calm':\n",
    "    webbrowser.open('https://www.youtube.com/watch?v=1ZYbU82GVz4')\n",
    "elif y_pre[0]=='happy':\n",
    "    webbrowser.open('https://www.youtube.com/watch?v=1W9YCSLKf-0')\n",
    "elif y_pre[0]=='neutral':\n",
    "    webbrowser.open('https://www.youtube.com/watch?v=_wX1C-uVvgk')\n",
    "elif y_pre[0]=='sad':\n",
    "    webbrwset.open('https://www.youtube.com/watch?v=UKyb_3gBmj4')\n",
    "elif y_pre[0]=='angry':\n",
    "    webbrwser.open('https://www.youtube.com/watch?v=7PSS1i-mgFI')\n",
    "elif y_pre[0]=='fearful':\n",
    "    webbrowser.open('https://www.youtube.com/watch?v=ziQ9GURNrUg')\n",
    "elif y_pre[0]=='disgust':\n",
    "    webbrowser.open('https://www.youtube.com/watch?v=k-bbxd9-4mU')\n",
    "else:\n",
    "    webbrowser.open('https://www.youtube.com/watch?v=A-sfd1J8yX4')"
   ]
  },
  {
   "cell_type": "code",
   "execution_count": null,
   "metadata": {},
   "outputs": [],
   "source": []
  }
 ],
 "metadata": {
  "kernelspec": {
   "display_name": "Python 3",
   "language": "python",
   "name": "python3"
  },
  "language_info": {
   "codemirror_mode": {
    "name": "ipython",
    "version": 3
   },
   "file_extension": ".py",
   "mimetype": "text/x-python",
   "name": "python",
   "nbconvert_exporter": "python",
   "pygments_lexer": "ipython3",
   "version": "3.8.5"
  }
 },
 "nbformat": 4,
 "nbformat_minor": 4
}
